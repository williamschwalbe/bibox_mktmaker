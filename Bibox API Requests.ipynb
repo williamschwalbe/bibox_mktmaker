{
 "cells": [
  {
   "cell_type": "code",
   "execution_count": null,
   "metadata": {},
   "outputs": [],
   "source": [
    "from retrying import retry\n",
    "import requests\n",
    "import json\n",
    "import hmac\n",
    "\n",
    "\n",
    "class BiboxCon:\n",
    "\n",
    "    def __init__(self, current_account, api_key, secret):\n",
    "        self.current_account = current_account\n",
    "        self.api_key = api_key\n",
    "        self.secret = secret\n",
    "        self.valid = self.connection_check()\n",
    "\n",
    "    @retry(wait_exponential_multiplier=1000, wait_exponential_max=10000)\n",
    "    def bibox_call_signed(self, uri, cmd, index, body):\n",
    "        if index == \"\":\n",
    "            command_dict = [{\"cmd\": cmd, \"body\": body}]\n",
    "            print(command_dict)\n",
    "        else:\n",
    "            command_dict = [{\"cmd\": cmd, \"index\": index, \"body\": body}]\n",
    "\n",
    "        command = json.dumps(command_dict)\n",
    "        # print(command)\n",
    "        signed = str(hmac.new(self.secret.encode('utf-8'), command.encode('utf-8')).hexdigest())\n",
    "        params = {'cmds': command, \"apikey\": self.api_key, \"sign\": signed}\n",
    "\n",
    "        return requests.post(url=uri, data=params).json()\n",
    "\n",
    "    @retry(wait_exponential_multiplier=1000, wait_exponential_max=10000)\n",
    "    def bibox_call(self, uri, cmd, body):\n",
    "        command_dict = [{\"cmd\": cmd, \"body\": body}]\n",
    "        command = json.dumps(command_dict)\n",
    "        params = {'cmds': command}\n",
    "\n",
    "        return requests.post(url=uri, data=params).json()\n",
    "\n",
    "    @retry(wait_exponential_multiplier=1000, wait_exponential_max=10000)\n",
    "    def connection_check(self):\n",
    "        user_info = self.bibox_call_signed(\"https://api.bibox.com/v1/user\", \"user/userInfo\", \"\", {})\n",
    "        if \"error\" in user_info.keys():\n",
    "            return False\n",
    "        else:\n",
    "            return True\n"
   ]
  },
  {
   "cell_type": "code",
   "execution_count": null,
   "metadata": {},
   "outputs": [],
   "source": [
    "### GET REQUESTS"
   ]
  },
  {
   "cell_type": "code",
   "execution_count": 75,
   "metadata": {},
   "outputs": [],
   "source": [
    "def get_mdpt():\n",
    "    r = requests.get('https://api.bibox.com/v1/mdata?cmd=depth&pair=C20_ETH&size=2')\n",
    "    depth = json.loads(r.text)['result']\n",
    "\n",
    "    bids = depth['bids']\n",
    "    asks = depth['asks']\n",
    "\n",
    "    return (float(bids[0]['price']) + float(asks[0]['price'])) / 2"
   ]
  },
  {
   "cell_type": "code",
   "execution_count": 76,
   "metadata": {},
   "outputs": [
    {
     "data": {
      "text/plain": [
       "0.002208795"
      ]
     },
     "execution_count": 76,
     "metadata": {},
     "output_type": "execute_result"
    }
   ],
   "source": [
    "get_mdpt()"
   ]
  },
  {
   "cell_type": "code",
   "execution_count": 50,
   "metadata": {},
   "outputs": [
    {
     "name": "stdout",
     "output_type": "stream",
     "text": [
      "[{'cmd': 'user/userInfo', 'body': {}}]\n"
     ]
    },
    {
     "ename": "KeyboardInterrupt",
     "evalue": "",
     "output_type": "error",
     "traceback": [
      "\u001b[0;31m---------------------------------------------------------------------------\u001b[0m",
      "\u001b[0;31mKeyboardInterrupt\u001b[0m                         Traceback (most recent call last)",
      "\u001b[0;32m<ipython-input-50-e349b53c9759>\u001b[0m in \u001b[0;36m<module>\u001b[0;34m()\u001b[0m\n\u001b[0;32m----> 1\u001b[0;31m \u001b[0mget_depth\u001b[0m\u001b[0;34m(\u001b[0m\u001b[0;34m\"C20_ETH\"\u001b[0m\u001b[0;34m,\u001b[0m \u001b[0;36m20\u001b[0m\u001b[0;34m)\u001b[0m\u001b[0;34m\u001b[0m\u001b[0m\n\u001b[0m",
      "\u001b[0;32m<ipython-input-46-e60aa26e0c0d>\u001b[0m in \u001b[0;36mget_depth\u001b[0;34m(pair, size)\u001b[0m\n\u001b[1;32m      7\u001b[0m \u001b[0;34m\u001b[0m\u001b[0m\n\u001b[1;32m      8\u001b[0m     return conn.bibox_call(\"https://api.bibox.com/v1/api\",\n\u001b[0;32m----> 9\u001b[0;31m                                   \"api/depth\", body)\n\u001b[0m",
      "\u001b[0;32m~/anaconda3/lib/python3.6/site-packages/retrying.py\u001b[0m in \u001b[0;36mwrapped_f\u001b[0;34m(*args, **kw)\u001b[0m\n\u001b[1;32m     47\u001b[0m             \u001b[0;34m@\u001b[0m\u001b[0msix\u001b[0m\u001b[0;34m.\u001b[0m\u001b[0mwraps\u001b[0m\u001b[0;34m(\u001b[0m\u001b[0mf\u001b[0m\u001b[0;34m)\u001b[0m\u001b[0;34m\u001b[0m\u001b[0m\n\u001b[1;32m     48\u001b[0m             \u001b[0;32mdef\u001b[0m \u001b[0mwrapped_f\u001b[0m\u001b[0;34m(\u001b[0m\u001b[0;34m*\u001b[0m\u001b[0margs\u001b[0m\u001b[0;34m,\u001b[0m \u001b[0;34m**\u001b[0m\u001b[0mkw\u001b[0m\u001b[0;34m)\u001b[0m\u001b[0;34m:\u001b[0m\u001b[0;34m\u001b[0m\u001b[0m\n\u001b[0;32m---> 49\u001b[0;31m                 \u001b[0;32mreturn\u001b[0m \u001b[0mRetrying\u001b[0m\u001b[0;34m(\u001b[0m\u001b[0;34m*\u001b[0m\u001b[0mdargs\u001b[0m\u001b[0;34m,\u001b[0m \u001b[0;34m**\u001b[0m\u001b[0mdkw\u001b[0m\u001b[0;34m)\u001b[0m\u001b[0;34m.\u001b[0m\u001b[0mcall\u001b[0m\u001b[0;34m(\u001b[0m\u001b[0mf\u001b[0m\u001b[0;34m,\u001b[0m \u001b[0;34m*\u001b[0m\u001b[0margs\u001b[0m\u001b[0;34m,\u001b[0m \u001b[0;34m**\u001b[0m\u001b[0mkw\u001b[0m\u001b[0;34m)\u001b[0m\u001b[0;34m\u001b[0m\u001b[0m\n\u001b[0m\u001b[1;32m     50\u001b[0m \u001b[0;34m\u001b[0m\u001b[0m\n\u001b[1;32m     51\u001b[0m             \u001b[0;32mreturn\u001b[0m \u001b[0mwrapped_f\u001b[0m\u001b[0;34m\u001b[0m\u001b[0m\n",
      "\u001b[0;32m~/anaconda3/lib/python3.6/site-packages/retrying.py\u001b[0m in \u001b[0;36mcall\u001b[0;34m(self, fn, *args, **kwargs)\u001b[0m\n\u001b[1;32m    218\u001b[0m                     \u001b[0mjitter\u001b[0m \u001b[0;34m=\u001b[0m \u001b[0mrandom\u001b[0m\u001b[0;34m.\u001b[0m\u001b[0mrandom\u001b[0m\u001b[0;34m(\u001b[0m\u001b[0;34m)\u001b[0m \u001b[0;34m*\u001b[0m \u001b[0mself\u001b[0m\u001b[0;34m.\u001b[0m\u001b[0m_wait_jitter_max\u001b[0m\u001b[0;34m\u001b[0m\u001b[0m\n\u001b[1;32m    219\u001b[0m                     \u001b[0msleep\u001b[0m \u001b[0;34m=\u001b[0m \u001b[0msleep\u001b[0m \u001b[0;34m+\u001b[0m \u001b[0mmax\u001b[0m\u001b[0;34m(\u001b[0m\u001b[0;36m0\u001b[0m\u001b[0;34m,\u001b[0m \u001b[0mjitter\u001b[0m\u001b[0;34m)\u001b[0m\u001b[0;34m\u001b[0m\u001b[0m\n\u001b[0;32m--> 220\u001b[0;31m                 \u001b[0mtime\u001b[0m\u001b[0;34m.\u001b[0m\u001b[0msleep\u001b[0m\u001b[0;34m(\u001b[0m\u001b[0msleep\u001b[0m \u001b[0;34m/\u001b[0m \u001b[0;36m1000.0\u001b[0m\u001b[0;34m)\u001b[0m\u001b[0;34m\u001b[0m\u001b[0m\n\u001b[0m\u001b[1;32m    221\u001b[0m \u001b[0;34m\u001b[0m\u001b[0m\n\u001b[1;32m    222\u001b[0m             \u001b[0mattempt_number\u001b[0m \u001b[0;34m+=\u001b[0m \u001b[0;36m1\u001b[0m\u001b[0;34m\u001b[0m\u001b[0m\n",
      "\u001b[0;31mKeyboardInterrupt\u001b[0m: "
     ]
    }
   ],
   "source": [
    "get_depth(\"C20_ETH\", 20)"
   ]
  },
  {
   "cell_type": "code",
   "execution_count": null,
   "metadata": {},
   "outputs": [],
   "source": [
    "### SIGNED API POST REQUESTS"
   ]
  },
  {
   "cell_type": "code",
   "execution_count": 26,
   "metadata": {},
   "outputs": [],
   "source": [
    "def get_pending_orders(order_side):\n",
    "    body = {\"pair\": [\"C20_ETH\"],\n",
    "            \"account_type\": [0],\n",
    "            \"page\": 1,\n",
    "            \"size\": 100,\n",
    "            \"coin_symbol\": [\"C20\"],\n",
    "            \"currency_symbol\": [\"ETH\"],\n",
    "            \"order_side\": [order_side]\n",
    "            }\n",
    "\n",
    "    #with open('config.json') as file:\n",
    "    #    config = json.load(file)\n",
    "\n",
    "    conn = BiboxCon('11419354', 'd2314aafde74461275e33c397b97b65b93693d94', 'a59f98178029bbdb1879e878fc83b702b87773ff')\n",
    "\n",
    "    return conn.bibox_call_signed(\"https://api.bibox.com/v1/orderpending\",\n",
    "                                  \"orderpending/orderPendingList\", \"12346\", body)"
   ]
  },
  {
   "cell_type": "code",
   "execution_count": 107,
   "metadata": {},
   "outputs": [],
   "source": [
    "def make_trades_make_money(order_type, order_side, price, amount, pay_bix = 2):\n",
    "    body = {\"pair\": [\"C20_ETH\"],\n",
    "            \"account_type\": [0],\n",
    "            \"order_type\": [order_type],\n",
    "            \"order_side\": [order_side],\n",
    "            \"pay_bix\": [pay_bix],\n",
    "            \"price\": [price],\n",
    "            \"amount\": [1],\n",
    "            }\n",
    "\n",
    "    conn = BiboxCon('what do i do here', 'd2314aafde74461275e33c397b97b65b93693d94', 'a59f98178029bbdb1879e878fc83b702b87773ff')\n",
    "\n",
    "    return conn.bibox_call_signed(\"https://api.bibox.com/v1/orderpending\",\n",
    "                                  \"orderpending/trade\", \"12346\", body)"
   ]
  },
  {
   "cell_type": "code",
   "execution_count": 28,
   "metadata": {},
   "outputs": [],
   "source": [
    "def cancel_trade(orders_id):\n",
    "    body = {\"orders_id\": [orders_id],\n",
    "            }\n",
    "\n",
    "    conn = BiboxCon('11419354', 'd2314aafde74461275e33c397b97b65b93693d94', 'a59f98178029bbdb1879e878fc83b702b87773ff')\n",
    "\n",
    "    return conn.bibox_call_signed(\"https://api.bibox.com/v1/orderpending\",\n",
    "                                  \"orderpending/cancelTrade\", \"12346\", body)"
   ]
  },
  {
   "cell_type": "code",
   "execution_count": 29,
   "metadata": {},
   "outputs": [
    {
     "name": "stdout",
     "output_type": "stream",
     "text": [
      "[{'cmd': 'user/userInfo', 'body': {}}]\n"
     ]
    },
    {
     "data": {
      "text/plain": [
       "{'result': [{'result': {'count': 1,\n",
       "    'page': 1,\n",
       "    'items': [{'id': 696876220,\n",
       "      'createdAt': 1530177546000,\n",
       "      'account_type': 0,\n",
       "      'pair': 'C20_ETH',\n",
       "      'coin_symbol': 'C20',\n",
       "      'currency_symbol': 'ETH',\n",
       "      'order_side': 1,\n",
       "      'order_type': 2,\n",
       "      'price': '0.00100000',\n",
       "      'deal_price': '0.00000000',\n",
       "      'amount': '1.0000',\n",
       "      'money': '0.00100000',\n",
       "      'deal_amount': '0.0000',\n",
       "      'deal_percent': '0.00%',\n",
       "      'deal_money': '0.00000000',\n",
       "      'status': 1,\n",
       "      'unexecuted': '1.0000',\n",
       "      'order_from': 6}]},\n",
       "   'cmd': 'orderpending/orderPendingList',\n",
       "   'index': '12346'}]}"
      ]
     },
     "execution_count": 29,
     "metadata": {},
     "output_type": "execute_result"
    }
   ],
   "source": [
    "get_pending_orders(1)"
   ]
  },
  {
   "cell_type": "code",
   "execution_count": 110,
   "metadata": {},
   "outputs": [
    {
     "name": "stdout",
     "output_type": "stream",
     "text": [
      "[{'cmd': 'user/userInfo', 'body': {}}]\n"
     ]
    },
    {
     "data": {
      "text/plain": [
       "{'result': [{'result': 697915679,\n",
       "   'cmd': 'orderpending/trade',\n",
       "   'index': '12346'}]}"
      ]
     },
     "execution_count": 110,
     "metadata": {},
     "output_type": "execute_result"
    }
   ],
   "source": [
    "make_trades_make_money(2, 1, 0.0001, 1)"
   ]
  },
  {
   "cell_type": "code",
   "execution_count": 30,
   "metadata": {},
   "outputs": [
    {
     "name": "stdout",
     "output_type": "stream",
     "text": [
      "[{'cmd': 'user/userInfo', 'body': {}}]\n"
     ]
    },
    {
     "data": {
      "text/plain": [
       "{'result': [{'result': '撤销中',\n",
       "   'cmd': 'orderpending/cancelTrade',\n",
       "   'index': '12346'}]}"
      ]
     },
     "execution_count": 30,
     "metadata": {},
     "output_type": "execute_result"
    }
   ],
   "source": [
    "cancel_trade(696876220)"
   ]
  },
  {
   "cell_type": "code",
   "execution_count": 113,
   "metadata": {},
   "outputs": [],
   "source": [
    "def set_staggered_orders(max, interval, amount):\n",
    "\n",
    "    price = get_mdpt()\n",
    "    askprice = price\n",
    "    bidprice = price\n",
    "    \n",
    "    for i in range(1,max + 1):\n",
    "        make_trades_make_money(2, 1, bidprice * (1 - interval/100), amount)\n",
    "        bidprice -= bidprice * interval/100\n",
    "        \n",
    "    for i in range(1,max + 1):\n",
    "        make_trades_make_money(2, 2, askprice * (1 + interval/100), amount)\n",
    "        askprice += askprice * interval/100\n",
    "    "
   ]
  },
  {
   "cell_type": "code",
   "execution_count": 112,
   "metadata": {},
   "outputs": [
    {
     "name": "stdout",
     "output_type": "stream",
     "text": [
      "[{'cmd': 'user/userInfo', 'body': {}}]\n",
      "[{'cmd': 'user/userInfo', 'body': {}}]\n",
      "[{'cmd': 'user/userInfo', 'body': {}}]\n",
      "[{'cmd': 'user/userInfo', 'body': {}}]\n",
      "[{'cmd': 'user/userInfo', 'body': {}}]\n"
     ]
    }
   ],
   "source": [
    "set_staggered_orders(5, 5, 0.01)"
   ]
  }
 ],
 "metadata": {
  "kernelspec": {
   "display_name": "Python 3",
   "language": "python",
   "name": "python3"
  },
  "language_info": {
   "codemirror_mode": {
    "name": "ipython",
    "version": 3
   },
   "file_extension": ".py",
   "mimetype": "text/x-python",
   "name": "python",
   "nbconvert_exporter": "python",
   "pygments_lexer": "ipython3",
   "version": "3.6.5"
  }
 },
 "nbformat": 4,
 "nbformat_minor": 2
}
